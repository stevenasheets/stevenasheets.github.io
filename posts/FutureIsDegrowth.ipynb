{
 "cells": [
  {
   "attachments": {},
   "cell_type": "markdown",
   "id": "361b6342",
   "metadata": {},
   "source": [
    "---\n",
    "title: \"Notes on The Future is Degrowth\"\n",
    "author: \"Steven\"\n",
    "date: \"2023-06-02\"\n",
    "categories: [book review, climate change, economics]\n",
    "---\n",
    "\n",
    "### Notes on The Future is Degrowth\n",
    "##### by Matthias Schmelzer; Andrea Vetter; Aaron Vansintjan\n",
    "\n",
    "Some notes I've compiled while reading The Future is Degrowth. \n",
    "\n",
    "#### What is Degrowth?\n",
    "\n",
    "The word 'degrowth' seems to bring up images of economic austerity. The authors bristle at this interpretation and instead provide this definition:\n",
    "\n",
    "> “degrowth can be defined as the democratic transition to a society that – in order to enable global ecological justice – is based on a much smaller throughput of energy and resources, that deepens democracy and guarantees a good life and social justice for all, and that does not depend on continuous expansion”\n",
    "\n",
    "This should be not be compared to Green New Deal policies that use government spending to hasten the transition to more environmental friendly technologies while remaining compatible with economic growth. \n",
    "\n",
    "Later in the first chapter the authors continue to try and distances the degrowth movement from austerity:\n",
    "\n",
    "> “Degrowth is the opposite of recession: recessions are unintentional, while degrowth is planned and intentional; recessions make inequality worse, degrowth seeks to reduce it; recessions typically lead to cuts in public services while degrowth is about de-commodifying essential goods and services; recessions often cause bold policies for sustainability to be abandoned for the sake of restarting growth, while degrowth is explicitly for a rapid and decisive transformation”\n",
    "\n",
    "with the idea is that degrowth will be radicially redistributitve:\n",
    "\n",
    "> “By contrast, degrowth targets the assumption that it is economic growth that we need and focuses instead on a radical redistribution of income and wealth, on global justice, and on what actually ensures well-being. While austerity increases inequality by thrashing public services and benefitting the rich, degrowth policies focus on democratizing production, curbing the wealth and over-consumption of the rich, expanding public services, and increasing equality within and between societies.”\n",
    "\n",
    "So degrowth aims to both reduce global inequality and solve the climate & ecological problem with a planned and democratic transition away from economic growth. The problem for me is this already sounds utopian. My concern is what specific policies degrowthers are proposing and how are they going to convince people to enact those policies? I am less interested in the degrowth critque of growth because I do not think criticism of growth alone is justification for their proprosed program. Chapters 2 and 3 are critiques of growth so I will skip those chapters and focus my review on what the authors propose and how they plan on getting there.\n",
    "\n",
    "#### How will we degrow?\n",
    "\n",
    "In Chapter 5 the authors finally get around to laying out policies they envision for acheiving a degrowth society.\n",
    "Industries that are ecological destructive (oil & gas) and deemed 'useless' (advertising, fast-fashion, private space flight, the military etc) should be eliminated. A wealth tax would be levied and caps on the highest incomes will be set. Work will be transformed too so most people only work part-time. To avoid a reduction in living standards from reduced working hours some type of universal basic income will be passed. Public services like housing, health care, and transportation will be increased. Community ownership of things like tools, washing machines, and vehicles rather than individual ownership will be encouraged. To combat global inequity the authors argue for a wealth transfer from the first world to the global south. Meanwhile, throughtout all of this, the authors want increased democratization with workers and communities having a greater voice at all levels of society.\n",
    "\n",
    "Now that we have something concrete from the authors it is fun to think through the consequences of such policies. Let's start with oil and gas. Cutting these out will cause the mother of all energy crisis leading to reductions in employment, inflation, and most likely a recession. Unemployment will be further exacberrated by cuts in other \"useless\" industries such as the military, advertizing, etc. But don't fear, the authors want a universal basic income (UBI) to help stave off unemployment. \n",
    "\n",
    "But at what level? The median income in the US is 31k dollars, a UBI given to 300 million Americans at the median income requires $9.3 trillion in revenue to support--far higher than the 4 trillion in revenue recieved by the US government in FY2021. Maybe halving the UBI and allowing only about a third of citizens to receive it would be reasonable making the cost to the government 1.5 trillion.\n",
    "\n",
    "A UBI by itself will be a significant government expediture but we also want to provide universal healthcare & massive investments in infrastructure. How will we pay for this? Futhermore, spending buckets of money leads to growth--something we're specifically trying to avoid. \n",
    "\n",
    "Taxing wealth is one way suggested to pay for the degrowth economy. But we're committed to a no growth scenario while placing a cap on income limits. So the revenue from taxing wealth is a finite revenue stream garanteed to decrease every year (and maybe drastically if there's significant capital flight out of the country). \n",
    "\n",
    "Deficit spending doesn't look promising either. Creating debt to pay for public services for a no-growth or shrinking economy will mean interest on that debt will blow up. In time servicing the interest on the debt will start crowding out the things you want to spend money on.\n",
    "\n",
    "The authors also want to expand voice of the people by increased democraticization at all levels of society. This doesn't make a lot of sense to me if the goal is to quickly reshape society and build a ton of new infrastructure. [Local interests](https://www.theatlantic.com/ideas/archive/2022/04/local-government-community-input-housing-public-transportation/629625/) will often stonewall projects for the greater good if they feel it doesn't align with their interests (the housing affordibility crisis in California is a great example of this). How are you going to prevent this? Steamrolling community groups if they don't align with degrowth policies seems contrary to the idea of increased democraticization. \n",
    "\n",
    "On top of the challenges of financing a degrowing economy the authors want to provide reparations to the Global South. The challenges of shrinking an economy and growing social provisioning systems without immiserating everyone already seems substantial. Under these conditions what money is there to provide reparations to the global poor?\n",
    "\n",
    "I guess the big question I have is:\n",
    "\n",
    "#### Who wants this?\n",
    "\n",
    "To me it seems the appeal of Marxist movements was the promise of reducing the inequality in society by equalizing the material standards between the classes. Whether right or wrong the working class saw Marxism as a means to improve their living standards. Degrowth seems to turn this upside down; it promises first world workers an equalization not with the upper class of their society but with the global poor. Degrowthers seem to think offering greater public services will offset the lower living standards they promise. But I see no reason why the public should not be suspicious that degrowthers can deliver on their promises or even why they might want to make that trade-off to begin with.\n",
    "\n",
    "Reading chapters 6 and 7 I have no confidence the authors have any idea how to pitch these ideas beyond the academic-activist class degrowth lives in. The solutions offered include autonomous collectives, radical progressive taxation, and activities such as what you already see in groups like the Extinction Rebellion. Basically the authors' solutions appear to keep doing the things progressive socialists are already doing. And we know how well this has been working out for them, right? \n",
    "\n",
    "One of the critiques degrowthers frequently make is there is no way the decoupling between CO2 emissions and economic growth is going to happen fast enough to avoid significant global warming. In my view, this seems partially true but the sting of this criticism loses its edge when you ask when are the top 20 or whatever carbon emitting countries going to adopt a degrowth economy? Oh ya, there is no timeline because none of the large economies are pursuing degrowth policies. \n",
    "\n",
    "Reading The Future is Degrowth and other degrowth academic literature my sense is the whole program is simply an [academic circle-jerk](https://examinedlife.typepad.com/johnbelle/2004/03/if_wishes_were_.html). As degrowth has no standing on any policy front there is no opportunity to study the efficacy of any given policy. So much of the literature comes off to me as vague and handwavy as academics theorize away unburdened by the possibilty of analzying what works in the real world.\n",
    "\n",
    "\n",
    "\n",
    "\n",
    "\n"
   ]
  },
  {
   "cell_type": "code",
   "execution_count": null,
   "id": "f0cd3663",
   "metadata": {},
   "outputs": [],
   "source": []
  },
  {
   "cell_type": "code",
   "execution_count": null,
   "id": "df3471b9",
   "metadata": {},
   "outputs": [],
   "source": []
  }
 ],
 "metadata": {
  "kernelspec": {
   "display_name": "Python 3",
   "language": "python",
   "name": "python3"
  },
  "language_info": {
   "codemirror_mode": {
    "name": "ipython",
    "version": 3
   },
   "file_extension": ".py",
   "mimetype": "text/x-python",
   "name": "python",
   "nbconvert_exporter": "python",
   "pygments_lexer": "ipython3",
   "version": "3.8.9 (default, Jul 19 2021, 09:37:32) \n[Clang 13.0.0 (clang-1300.0.27.3)]"
  },
  "vscode": {
   "interpreter": {
    "hash": "31f2aee4e71d21fbe5cf8b01ff0e069b9275f58929596ceb00d14d90e3e16cd6"
   }
  }
 },
 "nbformat": 4,
 "nbformat_minor": 5
}
