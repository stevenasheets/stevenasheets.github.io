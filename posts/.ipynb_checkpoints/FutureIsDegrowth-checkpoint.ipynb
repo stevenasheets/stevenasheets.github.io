{
 "cells": [
  {
   "cell_type": "markdown",
   "id": "b3c76faa",
   "metadata": {},
   "source": [
    "### Book Review: The Future is Degrowth\n",
    "##### by Matthias Schmelzer; Andrea Vetter; Aaron Vansintjan\n",
    "\n",
    "#### What is Degrowth?\n",
    "\n",
    "The word 'degrowth' seems to bring up images of economic austerity. The authors bristle at this interpretation and instead provide this definition:\n",
    "\n",
    "> “degrowth can be defined as the democratic transition to a society that – in order to enable global ecological justice – is based on a much smaller throughput of energy and resources, that deepens democracy and guarantees a good life and social justice for all, and that does not depend on continuous expansion”\n",
    "\n",
    "This should be not be compared to Green New Deal policies that use government spending to hasten the transition to more environmental friendly technologies while remaining compatible with economic growth. \n",
    "\n",
    "Later in the first chapter the authors continue to try and distances the degrowth movement from austerity:\n",
    "\n",
    "> “Degrowth is the opposite of recession: recessions are unintentional, while degrowth is planned and intentional; recessions make inequality worse, degrowth seeks to reduce it; recessions typically lead to cuts in public services while degrowth is about de-commodifying essential goods and services; recessions often cause bold policies for sustainability to be abandoned for the sake of restarting growth, while degrowth is explicitly for a rapid and decisive transformation”\n",
    "\n",
    "with the idea is that degrowth will be radicially redistributitve:\n",
    "\n",
    "> “By contrast, degrowth targets the assumption that it is economic growth that we need and focuses instead on a radical redistribution of income and wealth, on global justice, and on what actually ensures well-being. While austerity increases inequality by thrashing public services and benefitting the rich, degrowth policies focus on democratizing production, curbing the wealth and over-consumption of the rich, expanding public services, and increasing equality within and between societies.”\n",
    "\n",
    "So degrowth aims to both reduce global inequality and solve the climate & ecological problem with a planned and democratic transition away from economic growth. The problem for me is this already sounds utopian. My concern is what specific policies degrowthers are proposing and how are they going to convince people to enact those policies? I am less interested in the degrowth critque of growth because I do not think criticism of growth alone is justification for their proprosed program. Chapters 2 and 3 are critiques of growth so I will skip those chapters and focus my review on what the authors propose and how they plan on getting there.\n",
    "\n",
    "#### How will we degrow?\n",
    "\n",
    "In Chapter 5 the authors finally get around to laying out policies they envision for acheiving a degrowth society.\n",
    "Industries that are ecological destructive (oil & gas) and deemed 'useless' (advertizing, fast-fashion, private space flight, the military etc) should be destroyed. A wealth tax would be levied and caps on the highest incomes will be set. Work will be transformed too so most people only work part-time. To avoid a reduction in living standards from reduced working hours some type of universal basic income will be passed. Public services like housing, health care, and transportation will be increased. Community ownership of things like tools, washing machines, and vehicles rather than individual ownership will be encouraged. To combat global inequity the authors argue for a wealth transfer from the first world to the global south. Meanwhile, throughtout all of this, the authors want increased democrization with workers and communities having a greater voice at all levels of society.\n",
    "\n",
    "Now that we have something concrete from the authors it is fun to think through the consequences of such policies. Let's start with oil and gas. Cutting these out will cause the mother of all energy crisis leading to reductions in employment, inflation, and most likely a recession. Unemployment will be further exacberrated by cuts in other \"useless\" industries such as the military, advertizing, etc. But don't fear, the authors want a universal basic income (UBI) to help stave off unemployment. \n",
    "\n",
    "But at what level? The median income in the US is $31k, a UBI given to 300 million Americans requires $9.3 trillion in revenue to support--far higher than the 4 trillion in revenue recieved by the US government in FY2021. Maybe halving the UBI and allowing only about a third of citizins to receive it would be reasonable making the cost to the government 1.5 trillion.\n",
    "\n",
    "By itself, a UBI \n",
    "\n",
    "\n",
    "\n",
    "\n"
   ]
  },
  {
   "cell_type": "code",
   "execution_count": null,
   "id": "cf38610e",
   "metadata": {},
   "outputs": [],
   "source": []
  },
  {
   "cell_type": "code",
   "execution_count": null,
   "id": "6385794f",
   "metadata": {},
   "outputs": [],
   "source": []
  }
 ],
 "metadata": {
  "kernelspec": {
   "display_name": "Python 3 (ipykernel)",
   "language": "python",
   "name": "python3"
  },
  "language_info": {
   "codemirror_mode": {
    "name": "ipython",
    "version": 3
   },
   "file_extension": ".py",
   "mimetype": "text/x-python",
   "name": "python",
   "nbconvert_exporter": "python",
   "pygments_lexer": "ipython3",
   "version": "3.9.7"
  }
 },
 "nbformat": 4,
 "nbformat_minor": 5
}
